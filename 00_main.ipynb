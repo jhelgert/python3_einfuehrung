{
 "cells": [
  {
   "cell_type": "markdown",
   "metadata": {},
   "source": [
    "# Eine (sehr) kurze Einführung in Python3\n",
    "Jonathan Helgert ([jhelgert@mail.uni-mannheim.de](mailto:jhelgert@mail.uni-mannheim.de))\n",
    "\n",
    "*Diese Einführung basiert in großen Teilen auf Materialien von Meik Hellmund (Uni Leipzig) ([[1]](http://www.math.uni-leipzig.de/~hellmund/Vorlesung/pres19.pdf), [[2]](http://www.math.uni-leipzig.de/~hellmund/Vorlesung/numpy2.html)), welche an einigen Stellen erweitert wurden.*"
   ]
  },
  {
   "cell_type": "markdown",
   "metadata": {},
   "source": [
    "- [01 - Python Grundlagen](https://nbviewer.jupyter.org/github/jhelgert/python_einfuehrung/blob/master/01_Python_Grundlagen.ipynb)\n",
    "- [02 - Numpy](https://nbviewer.jupyter.org/github/jhelgert/python_einfuehrung/blob/master/02_Numpy.ipynb)\n",
    "- [03 - Scipy](https://nbviewer.jupyter.org/github/jhelgert/python_einfuehrung/blob/master/03_Scipy.ipynb)\n",
    "- [04 - Matplotlib](https://nbviewer.jupyter.org/github/jhelgert/python_einfuehrung/blob/master/04_Matplotlib.ipynb)"
   ]
  }
 ],
 "metadata": {
  "kernelspec": {
   "display_name": "Python 3",
   "language": "python",
   "name": "python3"
  },
  "language_info": {
   "codemirror_mode": {
    "name": "ipython",
    "version": 3
   },
   "file_extension": ".py",
   "mimetype": "text/x-python",
   "name": "python",
   "nbconvert_exporter": "python",
   "pygments_lexer": "ipython3",
   "version": "3.7.6"
  }
 },
 "nbformat": 4,
 "nbformat_minor": 2
}
